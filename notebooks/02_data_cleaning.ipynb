{
 "cells": [
  {
   "cell_type": "code",
   "execution_count": 1,
   "metadata": {},
   "outputs": [],
   "source": [
    "# Cell 1 - Import required libraries and set configurations\n",
    "import pandas as pd\n",
    "import numpy as np\n",
    "from pathlib import Path\n",
    "\n",
    "pd.set_option('display.max_columns', None)\n",
    "pd.set_option('display.float_format', '{:.2f}'.format)\n",
    "\n",
    "PROJECT_ROOT = Path.cwd().parent if 'notebooks' in str(Path.cwd()) else Path.cwd()"
   ]
  },
  {
   "cell_type": "code",
   "execution_count": 2,
   "metadata": {},
   "outputs": [
    {
     "name": "stdout",
     "output_type": "stream",
     "text": [
      "Dataset loaded successfully.\n",
      "\n",
      "Initial Dataset Info:\n",
      "<class 'pandas.core.frame.DataFrame'>\n",
      "RangeIndex: 9994 entries, 0 to 9993\n",
      "Data columns (total 21 columns):\n",
      " #   Column         Non-Null Count  Dtype         \n",
      "---  ------         --------------  -----         \n",
      " 0   Row ID         9994 non-null   int64         \n",
      " 1   Order ID       9994 non-null   object        \n",
      " 2   Order Date     9994 non-null   datetime64[ns]\n",
      " 3   Ship Date      9994 non-null   datetime64[ns]\n",
      " 4   Ship Mode      9994 non-null   object        \n",
      " 5   Customer ID    9994 non-null   object        \n",
      " 6   Customer Name  9994 non-null   object        \n",
      " 7   Segment        9994 non-null   object        \n",
      " 8   Country        9994 non-null   object        \n",
      " 9   City           9994 non-null   object        \n",
      " 10  State          9994 non-null   object        \n",
      " 11  Postal Code    9994 non-null   int64         \n",
      " 12  Region         9994 non-null   object        \n",
      " 13  Product ID     9994 non-null   object        \n",
      " 14  Category       9994 non-null   object        \n",
      " 15  Sub-Category   9994 non-null   object        \n",
      " 16  Product Name   9994 non-null   object        \n",
      " 17  Sales          9994 non-null   float64       \n",
      " 18  Quantity       9994 non-null   int64         \n",
      " 19  Discount       9994 non-null   float64       \n",
      " 20  Profit         9994 non-null   float64       \n",
      "dtypes: datetime64[ns](2), float64(3), int64(3), object(13)\n",
      "memory usage: 1.6+ MB\n"
     ]
    }
   ],
   "source": [
    "# Cell 2 - Load dataset with proper encoding\n",
    "data_path = PROJECT_ROOT / 'data' / 'raw' / 'Superstore_Dataset.csv'\n",
    "try:\n",
    "    df = pd.read_csv(data_path, parse_dates=['Order Date', 'Ship Date'], encoding='windows-1252')\n",
    "    print('Dataset loaded successfully.')\n",
    "except FileNotFoundError:\n",
    "    print(f'Error: {data_path} not found. Ensure the dataset is in data/raw/.')\n",
    "    raise\n",
    "except UnicodeDecodeError:\n",
    "    print(f'Error: Unable to decode {data_path} with windows-1252. Trying latin1...')\n",
    "    df = pd.read_csv(data_path, parse_dates=['Order Date', 'Ship Date'], encoding='latin1')\n",
    "    print('Dataset loaded successfully with latin1 encoding.')\n",
    "\n",
    "print('\\nInitial Dataset Info:')\n",
    "df.info()"
   ]
  },
  {
   "cell_type": "code",
   "execution_count": 3,
   "metadata": {},
   "outputs": [
    {
     "name": "stdout",
     "output_type": "stream",
     "text": [
      "\n",
      "Missing Values by Column:\n",
      "Row ID           0\n",
      "Order ID         0\n",
      "Order Date       0\n",
      "Ship Date        0\n",
      "Ship Mode        0\n",
      "Customer ID      0\n",
      "Customer Name    0\n",
      "Segment          0\n",
      "Country          0\n",
      "City             0\n",
      "State            0\n",
      "Postal Code      0\n",
      "Region           0\n",
      "Product ID       0\n",
      "Category         0\n",
      "Sub-Category     0\n",
      "Product Name     0\n",
      "Sales            0\n",
      "Quantity         0\n",
      "Discount         0\n",
      "Profit           0\n",
      "dtype: int64\n",
      "\n",
      "Number of Duplicate Rows:\n",
      "0\n"
     ]
    }
   ],
   "source": [
    "# Cell 3 - Check for missing values and duplicates\n",
    "print('\\nMissing Values by Column:')\n",
    "print(df.isnull().sum())\n",
    "\n",
    "print('\\nNumber of Duplicate Rows:')\n",
    "print(df.duplicated().sum())\n",
    "\n",
    "if df.duplicated().sum() > 0:\n",
    "    df = df.drop_duplicates()\n",
    "    print(f'Duplicates removed. New row count: {len(df)}')"
   ]
  },
  {
   "cell_type": "code",
   "execution_count": 4,
   "metadata": {},
   "outputs": [
    {
     "name": "stdout",
     "output_type": "stream",
     "text": [
      "\n",
      "Outliers Detection (IQR Method):\n",
      "Sales - Outliers count: 1167\n",
      "Quantity - Outliers count: 170\n",
      "Discount - Outliers count: 856\n",
      "Profit - Outliers count: 1881\n"
     ]
    }
   ],
   "source": [
    "# Cell 4 - Handle inconsistent data types and outliers\n",
    "numerical_cols = ['Sales', 'Quantity', 'Discount', 'Profit']\n",
    "\n",
    "for col in numerical_cols:\n",
    "    df[col] = pd.to_numeric(df[col], errors='coerce')\n",
    "\n",
    "print('\\nOutliers Detection (IQR Method):')\n",
    "for col in numerical_cols:\n",
    "    Q1 = df[col].quantile(0.25)\n",
    "    Q3 = df[col].quantile(0.75)\n",
    "    IQR = Q3 - Q1\n",
    "    lower_bound = Q1 - 1.5 * IQR\n",
    "    upper_bound = Q3 + 1.5 * IQR\n",
    "    outliers = df[(df[col] < lower_bound) | (df[col] > upper_bound)][col]\n",
    "    print(f'{col} - Outliers count: {len(outliers)}')\n",
    "\n",
    "df['Quantity'] = df['Quantity'].clip(lower=0)\n",
    "df['Sales'] = df['Sales'].clip(lower=0)\n",
    "df['Profit'] = df['Profit'].fillna(df['Profit'].median())"
   ]
  },
  {
   "cell_type": "code",
   "execution_count": 5,
   "metadata": {},
   "outputs": [
    {
     "name": "stdout",
     "output_type": "stream",
     "text": [
      "\n",
      "Unique Values After Standardization:\n",
      "Ship Mode: ['Second Class' 'Standard Class' 'First Class' 'Same Day']\n",
      "Segment: ['Consumer' 'Corporate' 'Home Office']\n",
      "Country: ['United States']\n",
      "Region: ['South' 'West' 'Central' 'East']\n",
      "Category: ['Furniture' 'Office Supplies' 'Technology']\n",
      "Sub-Category: ['Bookcases' 'Chairs' 'Labels' 'Tables' 'Storage' 'Furnishings' 'Art'\n",
      " 'Phones' 'Binders' 'Appliances' 'Paper' 'Accessories' 'Envelopes'\n",
      " 'Fasteners' 'Supplies' 'Machines' 'Copiers']\n"
     ]
    }
   ],
   "source": [
    "# Cell 5 - Standardize categorical variables\n",
    "categorical_cols = ['Ship Mode', 'Segment', 'Country', 'Region', 'Category', 'Sub-Category']\n",
    "\n",
    "for col in categorical_cols:\n",
    "    df[col] = df[col].str.strip().str.title()\n",
    "\n",
    "print('\\nUnique Values After Standardization:')\n",
    "for col in categorical_cols:\n",
    "    print(f'{col}: {df[col].unique()}')"
   ]
  },
  {
   "cell_type": "code",
   "execution_count": 6,
   "metadata": {},
   "outputs": [
    {
     "name": "stdout",
     "output_type": "stream",
     "text": [
      "\n",
      "Encoded Dataset Info:\n",
      "<class 'pandas.core.frame.DataFrame'>\n",
      "RangeIndex: 9994 entries, 0 to 9993\n",
      "Data columns (total 41 columns):\n",
      " #   Column                    Non-Null Count  Dtype         \n",
      "---  ------                    --------------  -----         \n",
      " 0   Row ID                    9994 non-null   int64         \n",
      " 1   Order ID                  9994 non-null   object        \n",
      " 2   Order Date                9994 non-null   datetime64[ns]\n",
      " 3   Ship Date                 9994 non-null   datetime64[ns]\n",
      " 4   Customer ID               9994 non-null   object        \n",
      " 5   Customer Name             9994 non-null   object        \n",
      " 6   City                      9994 non-null   object        \n",
      " 7   State                     9994 non-null   object        \n",
      " 8   Postal Code               9994 non-null   int64         \n",
      " 9   Product ID                9994 non-null   object        \n",
      " 10  Product Name              9994 non-null   object        \n",
      " 11  Sales                     9994 non-null   float64       \n",
      " 12  Quantity                  9994 non-null   int64         \n",
      " 13  Discount                  9994 non-null   float64       \n",
      " 14  Profit                    9994 non-null   float64       \n",
      " 15  Ship Mode_Same Day        9994 non-null   bool          \n",
      " 16  Ship Mode_Second Class    9994 non-null   bool          \n",
      " 17  Ship Mode_Standard Class  9994 non-null   bool          \n",
      " 18  Segment_Corporate         9994 non-null   bool          \n",
      " 19  Segment_Home Office       9994 non-null   bool          \n",
      " 20  Region_East               9994 non-null   bool          \n",
      " 21  Region_South              9994 non-null   bool          \n",
      " 22  Region_West               9994 non-null   bool          \n",
      " 23  Category_Office Supplies  9994 non-null   bool          \n",
      " 24  Category_Technology       9994 non-null   bool          \n",
      " 25  Sub-Category_Appliances   9994 non-null   bool          \n",
      " 26  Sub-Category_Art          9994 non-null   bool          \n",
      " 27  Sub-Category_Binders      9994 non-null   bool          \n",
      " 28  Sub-Category_Bookcases    9994 non-null   bool          \n",
      " 29  Sub-Category_Chairs       9994 non-null   bool          \n",
      " 30  Sub-Category_Copiers      9994 non-null   bool          \n",
      " 31  Sub-Category_Envelopes    9994 non-null   bool          \n",
      " 32  Sub-Category_Fasteners    9994 non-null   bool          \n",
      " 33  Sub-Category_Furnishings  9994 non-null   bool          \n",
      " 34  Sub-Category_Labels       9994 non-null   bool          \n",
      " 35  Sub-Category_Machines     9994 non-null   bool          \n",
      " 36  Sub-Category_Paper        9994 non-null   bool          \n",
      " 37  Sub-Category_Phones       9994 non-null   bool          \n",
      " 38  Sub-Category_Storage      9994 non-null   bool          \n",
      " 39  Sub-Category_Supplies     9994 non-null   bool          \n",
      " 40  Sub-Category_Tables       9994 non-null   bool          \n",
      "dtypes: bool(26), datetime64[ns](2), float64(3), int64(3), object(7)\n",
      "memory usage: 1.4+ MB\n"
     ]
    }
   ],
   "source": [
    "# Cell 6 - Encode categorical variables for modeling\n",
    "df_encoded = df.copy()\n",
    "\n",
    "for col in categorical_cols:\n",
    "    df_encoded = pd.concat([df_encoded, pd.get_dummies(df_encoded[col], prefix=col, drop_first=True)], axis=1)\n",
    "    df_encoded.drop(col, axis=1, inplace=True)\n",
    "\n",
    "print('\\nEncoded Dataset Info:')\n",
    "df_encoded.info()"
   ]
  },
  {
   "cell_type": "code",
   "execution_count": 7,
   "metadata": {},
   "outputs": [
    {
     "name": "stdout",
     "output_type": "stream",
     "text": [
      "\n",
      "Dataset Info After Feature Engineering:\n",
      "<class 'pandas.core.frame.DataFrame'>\n",
      "RangeIndex: 9994 entries, 0 to 9993\n",
      "Data columns (total 42 columns):\n",
      " #   Column                    Non-Null Count  Dtype  \n",
      "---  ------                    --------------  -----  \n",
      " 0   Row ID                    9994 non-null   int64  \n",
      " 1   Order ID                  9994 non-null   object \n",
      " 2   Customer ID               9994 non-null   object \n",
      " 3   Customer Name             9994 non-null   object \n",
      " 4   City                      9994 non-null   object \n",
      " 5   State                     9994 non-null   object \n",
      " 6   Postal Code               9994 non-null   int64  \n",
      " 7   Product ID                9994 non-null   object \n",
      " 8   Product Name              9994 non-null   object \n",
      " 9   Sales                     9994 non-null   float64\n",
      " 10  Quantity                  9994 non-null   int64  \n",
      " 11  Discount                  9994 non-null   float64\n",
      " 12  Profit                    9994 non-null   float64\n",
      " 13  Ship Mode_Same Day        9994 non-null   bool   \n",
      " 14  Ship Mode_Second Class    9994 non-null   bool   \n",
      " 15  Ship Mode_Standard Class  9994 non-null   bool   \n",
      " 16  Segment_Corporate         9994 non-null   bool   \n",
      " 17  Segment_Home Office       9994 non-null   bool   \n",
      " 18  Region_East               9994 non-null   bool   \n",
      " 19  Region_South              9994 non-null   bool   \n",
      " 20  Region_West               9994 non-null   bool   \n",
      " 21  Category_Office Supplies  9994 non-null   bool   \n",
      " 22  Category_Technology       9994 non-null   bool   \n",
      " 23  Sub-Category_Appliances   9994 non-null   bool   \n",
      " 24  Sub-Category_Art          9994 non-null   bool   \n",
      " 25  Sub-Category_Binders      9994 non-null   bool   \n",
      " 26  Sub-Category_Bookcases    9994 non-null   bool   \n",
      " 27  Sub-Category_Chairs       9994 non-null   bool   \n",
      " 28  Sub-Category_Copiers      9994 non-null   bool   \n",
      " 29  Sub-Category_Envelopes    9994 non-null   bool   \n",
      " 30  Sub-Category_Fasteners    9994 non-null   bool   \n",
      " 31  Sub-Category_Furnishings  9994 non-null   bool   \n",
      " 32  Sub-Category_Labels       9994 non-null   bool   \n",
      " 33  Sub-Category_Machines     9994 non-null   bool   \n",
      " 34  Sub-Category_Paper        9994 non-null   bool   \n",
      " 35  Sub-Category_Phones       9994 non-null   bool   \n",
      " 36  Sub-Category_Storage      9994 non-null   bool   \n",
      " 37  Sub-Category_Supplies     9994 non-null   bool   \n",
      " 38  Sub-Category_Tables       9994 non-null   bool   \n",
      " 39  Order Year                9994 non-null   int32  \n",
      " 40  Order Month               9994 non-null   int32  \n",
      " 41  Ship Days                 9994 non-null   int64  \n",
      "dtypes: bool(26), float64(3), int32(2), int64(4), object(7)\n",
      "memory usage: 1.4+ MB\n"
     ]
    }
   ],
   "source": [
    "# Cell 7 - Feature engineering with date columns\n",
    "df_encoded['Order Year'] = df_encoded['Order Date'].dt.year\n",
    "df_encoded['Order Month'] = df_encoded['Order Date'].dt.month\n",
    "df_encoded['Ship Days'] = (df_encoded['Ship Date'] - df_encoded['Order Date']).dt.days\n",
    "\n",
    "df_encoded.drop(['Order Date', 'Ship Date'], axis=1, inplace=True)\n",
    "\n",
    "print('\\nDataset Info After Feature Engineering:')\n",
    "df_encoded.info()"
   ]
  },
  {
   "cell_type": "code",
   "execution_count": 8,
   "metadata": {},
   "outputs": [
    {
     "name": "stdout",
     "output_type": "stream",
     "text": [
      "Cleaned dataset saved to: /Users/rashidkarimov/Desktop/supestore_project/data/processed/cleaned_superstore_data.csv\n"
     ]
    }
   ],
   "source": [
    "# Cell 8 - Save cleaned dataset\n",
    "output_path = PROJECT_ROOT / 'data' / 'processed' / 'cleaned_superstore_data.csv'\n",
    "df_encoded.to_csv(output_path, index=False)\n",
    "print(f'Cleaned dataset saved to: {output_path}')"
   ]
  }
 ],
 "metadata": {
  "kernelspec": {
   "display_name": "venv",
   "language": "python",
   "name": "python3"
  },
  "language_info": {
   "codemirror_mode": {
    "name": "ipython",
    "version": 3
   },
   "file_extension": ".py",
   "mimetype": "text/x-python",
   "name": "python",
   "nbconvert_exporter": "python",
   "pygments_lexer": "ipython3",
   "version": "3.11.11"
  }
 },
 "nbformat": 4,
 "nbformat_minor": 2
}
